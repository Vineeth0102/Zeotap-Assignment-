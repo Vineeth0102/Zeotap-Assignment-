{
 "cells": [
  {
   "cell_type": "markdown",
   "metadata": {},
   "source": [
    "## Task 2\n",
    "\n",
    "\n"
   ]
  },
  {
   "cell_type": "markdown",
   "metadata": {},
   "source": [
    "### Importing libraries"
   ]
  },
  {
   "cell_type": "code",
   "execution_count": 28,
   "metadata": {},
   "outputs": [],
   "source": [
    "import pandas as pd\n",
    "import numpy as np\n",
    "from sklearn.metrics.pairwise import cosine_similarity\n",
    "from sklearn.preprocessing import MinMaxScaler"
   ]
  },
  {
   "cell_type": "markdown",
   "metadata": {},
   "source": [
    "### Load Data"
   ]
  },
  {
   "cell_type": "code",
   "execution_count": 29,
   "metadata": {},
   "outputs": [],
   "source": [
    "customers = pd.read_csv('Customers.csv')\n",
    "products = pd.read_csv('Products.csv')\n",
    "transactions = pd.read_csv('Transactions.csv')"
   ]
  },
  {
   "cell_type": "markdown",
   "metadata": {},
   "source": [
    "### Checking data types"
   ]
  },
  {
   "cell_type": "code",
   "execution_count": 30,
   "metadata": {},
   "outputs": [],
   "source": [
    "customers['SignupDate'] = pd.to_datetime(customers['SignupDate'])\n",
    "transactions['TransactionDate'] = pd.to_datetime(transactions['TransactionDate'])\n"
   ]
  },
  {
   "cell_type": "markdown",
   "metadata": {},
   "source": [
    "### Merging Data"
   ]
  },
  {
   "cell_type": "code",
   "execution_count": 31,
   "metadata": {},
   "outputs": [],
   "source": [
    "merged_data = pd.merge(transactions, customers, on='CustomerID')\n",
    "merged_data = pd.merge(merged_data, products, on='ProductID')"
   ]
  },
  {
   "cell_type": "markdown",
   "metadata": {},
   "source": [
    "### Feature engineering"
   ]
  },
  {
   "cell_type": "code",
   "execution_count": 32,
   "metadata": {},
   "outputs": [],
   "source": [
    "customer_features = merged_data.groupby('CustomerID').agg(\n",
    "    TotalSpending=('TotalValue', 'sum'),\n",
    "    TransactionCount=('TransactionID', 'nunique'),\n",
    "    AvgTransactionValue=('TotalValue', 'mean'),\n",
    "    FavoriteCategory=('Category', lambda x: x.mode()[0]),\n",
    "    AvgProductPrice=('Price_y', 'mean')  # Use 'Price_y' (from Products.csv)\n",
    ").reset_index()"
   ]
  },
  {
   "cell_type": "markdown",
   "metadata": {},
   "source": [
    "###  Merging with customer region"
   ]
  },
  {
   "cell_type": "code",
   "execution_count": 33,
   "metadata": {},
   "outputs": [],
   "source": [
    "customer_features = pd.merge(customer_features, customers[['CustomerID', 'Region']], on='CustomerID')"
   ]
  },
  {
   "cell_type": "markdown",
   "metadata": {},
   "source": [
    "### One-hot encode categorical features"
   ]
  },
  {
   "cell_type": "code",
   "execution_count": 34,
   "metadata": {},
   "outputs": [],
   "source": [
    "customer_features = pd.get_dummies(customer_features, columns=['Region', 'FavoriteCategory'])"
   ]
  },
  {
   "cell_type": "markdown",
   "metadata": {},
   "source": [
    "### Normalize numerical features"
   ]
  },
  {
   "cell_type": "code",
   "execution_count": 35,
   "metadata": {},
   "outputs": [],
   "source": [
    "scaler = MinMaxScaler()\n",
    "numerical_features = ['TotalSpending', 'TransactionCount', 'AvgTransactionValue', 'AvgProductPrice']\n",
    "customer_features[numerical_features] = scaler.fit_transform(customer_features[numerical_features])"
   ]
  },
  {
   "cell_type": "markdown",
   "metadata": {},
   "source": [
    "### Computing cosine similarity"
   ]
  },
  {
   "cell_type": "code",
   "execution_count": 36,
   "metadata": {},
   "outputs": [],
   "source": [
    "similarity_matrix = cosine_similarity(customer_features.drop(columns=['CustomerID']))\n",
    "lookalike_map = {}"
   ]
  },
  {
   "cell_type": "markdown",
   "metadata": {},
   "source": [
    "## Get top 3 lookalikes for each customer"
   ]
  },
  {
   "cell_type": "code",
   "execution_count": 37,
   "metadata": {},
   "outputs": [],
   "source": [
    "for i, customer in enumerate(customer_features['CustomerID']):\n",
    "    similarity_scores = similarity_matrix[i]\n",
    "    top_indices = np.argsort(similarity_scores)[-4:-1] \n",
    "    lookalikes = [(customer_features.iloc[idx]['CustomerID'], similarity_scores[idx]) for idx in top_indices]\n",
    "    lookalike_map[customer] = lookalikes"
   ]
  },
  {
   "cell_type": "markdown",
   "metadata": {},
   "source": [
    "### Results of the first 20 customers"
   ]
  },
  {
   "cell_type": "code",
   "execution_count": 38,
   "metadata": {},
   "outputs": [],
   "source": [
    "lookalike_results = {k: v for k, v in lookalike_map.items() if k in [f'C{i:04d}' for i in range(1, 21)]}"
   ]
  },
  {
   "cell_type": "markdown",
   "metadata": {},
   "source": [
    "### Converting to DataFrame and save as CSV"
   ]
  },
  {
   "cell_type": "code",
   "execution_count": 39,
   "metadata": {},
   "outputs": [],
   "source": [
    "lookalike_df = pd.DataFrame(lookalike_results.items(), columns=['CustomerID', 'Lookalikes'])\n",
    "lookalike_df.to_csv('Lookalike.csv', index=False)"
   ]
  },
  {
   "cell_type": "code",
   "execution_count": 40,
   "metadata": {},
   "outputs": [
    {
     "name": "stdout",
     "output_type": "stream",
     "text": [
      "{'C0001': [('C0048', 0.9950690613819692), ('C0181', 0.9965197369448543), ('C0190', 0.9966931152299675)], 'C0002': [('C0106', 0.9941927737587308), ('C0134', 0.994293589362952), ('C0088', 0.9972860777903121)], 'C0003': [('C0031', 0.9934455806554768), ('C0152', 0.9936573983161197), ('C0052', 0.9969992174703901)], 'C0004': [('C0153', 0.99090454545014), ('C0169', 0.9911838720110644), ('C0165', 0.9955186499931888)], 'C0005': [('C0007', 0.9945768778113777), ('C0146', 0.9961566777731068), ('C0186', 0.9981717526495861)], 'C0006': [('C0187', 0.9941245858589293), ('C0168', 0.9951676845599187), ('C0171', 0.9972810686606883)], 'C0007': [('C0140', 0.9937442904854265), ('C0005', 0.9945768778113777), ('C0115', 0.996488670368942)], 'C0008': [('C0038', 0.958087410056173), ('C0189', 0.9584174404031849), ('C0065', 0.978108948637362)], 'C0009': [('C0062', 0.9836452525114444), ('C0103', 0.9843189490454441), ('C0198', 0.9906325382380973)], 'C0010': [('C0198', 0.9820019158579849), ('C0062', 0.9920065603227987), ('C0111', 0.9965533191765481)], 'C0011': [('C0191', 0.9970672193749993), ('C0126', 0.9976469142768384), ('C0137', 0.9991608988383558)], 'C0012': [('C0113', 0.9941076648099112), ('C0104', 0.9955920519952759), ('C0195', 0.9961019737679557)], 'C0013': [('C0107', 0.9876343493077805), ('C0108', 0.9945871912035563), ('C0099', 0.9981930970672219)], 'C0014': [('C0086', 0.9431219437068037), ('C0166', 0.9566471963242932), ('C0060', 0.9750345002381821)], 'C0015': [('C0036', 0.9822846346664956), ('C0125', 0.9830268326911911), ('C0131', 0.9948348774149041)], 'C0016': [('C0067', 0.989668429982802), ('C0042', 0.9902973253303439), ('C0183', 0.9941921985419582)], 'C0017': [('C0057', 0.9893271510320707), ('C0081', 0.9920910913633979), ('C0075', 0.9973557379708929)], 'C0018': [('C0122', 0.9867764253622454), ('C0046', 0.9898730734596146), ('C0117', 0.9957806183292187)], 'C0019': [('C0057', 0.9753688188960634), ('C0017', 0.9795907979148195), ('C0081', 0.9910725740228765)], 'C0020': [('C0035', 0.9657629902403946), ('C0026', 0.9740595953667226), ('C0050', 0.9827582912945235)]}\n"
     ]
    }
   ],
   "source": [
    "print(lookalike_results)"
   ]
  },
  {
   "cell_type": "code",
   "execution_count": null,
   "metadata": {},
   "outputs": [],
   "source": []
  },
  {
   "cell_type": "markdown",
   "metadata": {},
   "source": [
    "## For real time Lookalike from user input "
   ]
  },
  {
   "cell_type": "markdown",
   "metadata": {},
   "source": [
    "### Dictionary to map CustomerID to index"
   ]
  },
  {
   "cell_type": "code",
   "execution_count": 41,
   "metadata": {},
   "outputs": [],
   "source": [
    "customer_to_index = {customer: idx for idx, customer in enumerate(customer_features['CustomerID'])}"
   ]
  },
  {
   "cell_type": "markdown",
   "metadata": {},
   "source": [
    "### Function to get top 3 lookalikes for a given customer"
   ]
  },
  {
   "cell_type": "code",
   "execution_count": 42,
   "metadata": {},
   "outputs": [],
   "source": [
    "def get_lookalikes(customer_id):\n",
    "    if customer_id not in customer_to_index:\n",
    "        return \"CustomerID not found in the dataset.\"\n",
    "    idx = customer_to_index[customer_id]\n",
    "    similarity_scores = similarity_matrix[idx]\n",
    "    similarity_scores[idx] = -1  \n",
    "    top_indices = np.argsort(similarity_scores)[-3:][::-1]  \n",
    "    lookalikes = [(customer_features.iloc[i]['CustomerID'], similarity_scores[i]) for i in top_indices]\n",
    "    return lookalikes"
   ]
  },
  {
   "cell_type": "markdown",
   "metadata": {},
   "source": [
    "###  Real-time input"
   ]
  },
  {
   "cell_type": "code",
   "execution_count": 43,
   "metadata": {},
   "outputs": [
    {
     "name": "stdout",
     "output_type": "stream",
     "text": [
      "Top 3 lookalikes for C0001:\n",
      "CustomerID: C0190, Similarity Score: 0.9967\n",
      "CustomerID: C0181, Similarity Score: 0.9965\n",
      "CustomerID: C0048, Similarity Score: 0.9951\n",
      "Top 3 lookalikes for C0001:\n",
      "CustomerID: C0190, Similarity Score: 0.9967\n",
      "CustomerID: C0181, Similarity Score: 0.9965\n",
      "CustomerID: C0048, Similarity Score: 0.9951\n",
      "Top 3 lookalikes for C0002:\n",
      "CustomerID: C0088, Similarity Score: 0.9973\n",
      "CustomerID: C0134, Similarity Score: 0.9943\n",
      "CustomerID: C0106, Similarity Score: 0.9942\n"
     ]
    }
   ],
   "source": [
    "while True:\n",
    "    user_input = input(\"Enter CustomerID (or 'exit' to quit): \")\n",
    "    if user_input.lower() == 'exit':\n",
    "        break\n",
    "    recommendations = get_lookalikes(user_input)\n",
    "    \n",
    "    if isinstance(recommendations, str):\n",
    "        print(recommendations)\n",
    "    else:\n",
    "        print(f\"Top 3 lookalikes for {user_input}:\")\n",
    "        for cust_id, score in recommendations:\n",
    "            print(f\"CustomerID: {cust_id}, Similarity Score: {score:.4f}\")"
   ]
  },
  {
   "cell_type": "code",
   "execution_count": null,
   "metadata": {},
   "outputs": [],
   "source": []
  }
 ],
 "metadata": {
  "kernelspec": {
   "display_name": "Python 3",
   "language": "python",
   "name": "python3"
  },
  "language_info": {
   "codemirror_mode": {
    "name": "ipython",
    "version": 3
   },
   "file_extension": ".py",
   "mimetype": "text/x-python",
   "name": "python",
   "nbconvert_exporter": "python",
   "pygments_lexer": "ipython3",
   "version": "3.11.0"
  }
 },
 "nbformat": 4,
 "nbformat_minor": 2
}
